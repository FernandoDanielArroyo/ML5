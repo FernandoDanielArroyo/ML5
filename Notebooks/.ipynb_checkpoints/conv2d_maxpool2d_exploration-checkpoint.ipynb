{
 "cells": [
  {
   "cell_type": "code",
   "execution_count": 1,
   "id": "a3b53dcd",
   "metadata": {},
   "outputs": [
    {
     "name": "stderr",
     "output_type": "stream",
     "text": [
      "2022-06-21 12:13:50.180916: I tensorflow/core/util/util.cc:169] oneDNN custom operations are on. You may see slightly different numerical results due to floating-point round-off errors from different computation orders. To turn them off, set the environment variable `TF_ENABLE_ONEDNN_OPTS=0`.\n",
      "2022-06-21 12:13:50.183751: W tensorflow/stream_executor/platform/default/dso_loader.cc:64] Could not load dynamic library 'libcudart.so.11.0'; dlerror: libcudart.so.11.0: cannot open shared object file: No such file or directory\n",
      "2022-06-21 12:13:50.183758: I tensorflow/stream_executor/cuda/cudart_stub.cc:29] Ignore above cudart dlerror if you do not have a GPU set up on your machine.\n"
     ]
    }
   ],
   "source": [
    "import tensorflow as tf\n",
    "import keras\n",
    "import numpy as np\n",
    "import seaborn as sns\n",
    "import matplotlib.pyplot as plt"
   ]
  },
  {
   "cell_type": "code",
   "execution_count": 2,
   "id": "85adac2c",
   "metadata": {},
   "outputs": [],
   "source": [
    "# the data, split between train and test sets\n",
    "(X_train, y_train), (X_test, y_test) = keras.datasets.mnist.load_data()"
   ]
  },
  {
   "cell_type": "markdown",
   "id": "c49330a7",
   "metadata": {},
   "source": [
    "# Conv2D"
   ]
  },
  {
   "cell_type": "markdown",
   "id": "9853c006",
   "metadata": {},
   "source": [
    "Let's explore Conv2D object"
   ]
  },
  {
   "cell_type": "code",
   "execution_count": 3,
   "id": "3a64670a",
   "metadata": {},
   "outputs": [],
   "source": [
    "conv2d = keras.layers.Conv2D(\n",
    "    filters=1,\n",
    "    kernel_size=(2, 2),\n",
    "    strides=(1, 1),\n",
    "    padding='valid',\n",
    "    data_format=None,\n",
    "    dilation_rate=(1, 1),\n",
    "    groups=1,\n",
    "    activation=None,\n",
    "    use_bias=True,\n",
    "    kernel_initializer='glorot_uniform',\n",
    "    bias_initializer='zeros',\n",
    "    kernel_regularizer=None,\n",
    "    bias_regularizer=None,\n",
    "    activity_regularizer=None,\n",
    "    kernel_constraint=None,\n",
    "    bias_constraint=None,\n",
    ")"
   ]
  },
  {
   "cell_type": "code",
   "execution_count": 4,
   "id": "185a64da",
   "metadata": {},
   "outputs": [
    {
     "name": "stdout",
     "output_type": "stream",
     "text": [
      "X_train shape: (60000, 28, 28)\n",
      "x_train shape with one channel: (60000, 28, 28, 1)\n"
     ]
    }
   ],
   "source": [
    "print('X_train shape:', X_train.shape)\n",
    "x_train = np.expand_dims(X_train, -1).astype(float)\n",
    "print('x_train shape with one channel:', x_train.shape)"
   ]
  },
  {
   "cell_type": "code",
   "execution_count": 5,
   "id": "bdca08a7",
   "metadata": {},
   "outputs": [
    {
     "name": "stderr",
     "output_type": "stream",
     "text": [
      "2022-06-21 12:13:52.941091: I tensorflow/stream_executor/cuda/cuda_gpu_executor.cc:961] could not open file to read NUMA node: /sys/bus/pci/devices/0000:01:00.0/numa_node\n",
      "Your kernel may have been built without NUMA support.\n",
      "2022-06-21 12:13:52.941221: W tensorflow/stream_executor/platform/default/dso_loader.cc:64] Could not load dynamic library 'libcudart.so.11.0'; dlerror: libcudart.so.11.0: cannot open shared object file: No such file or directory\n",
      "2022-06-21 12:13:52.941253: W tensorflow/stream_executor/platform/default/dso_loader.cc:64] Could not load dynamic library 'libcublas.so.11'; dlerror: libcublas.so.11: cannot open shared object file: No such file or directory\n",
      "2022-06-21 12:13:52.941279: W tensorflow/stream_executor/platform/default/dso_loader.cc:64] Could not load dynamic library 'libcublasLt.so.11'; dlerror: libcublasLt.so.11: cannot open shared object file: No such file or directory\n",
      "2022-06-21 12:13:52.941305: W tensorflow/stream_executor/platform/default/dso_loader.cc:64] Could not load dynamic library 'libcufft.so.10'; dlerror: libcufft.so.10: cannot open shared object file: No such file or directory\n",
      "2022-06-21 12:13:52.941330: W tensorflow/stream_executor/platform/default/dso_loader.cc:64] Could not load dynamic library 'libcurand.so.10'; dlerror: libcurand.so.10: cannot open shared object file: No such file or directory\n",
      "2022-06-21 12:13:52.941354: W tensorflow/stream_executor/platform/default/dso_loader.cc:64] Could not load dynamic library 'libcusolver.so.11'; dlerror: libcusolver.so.11: cannot open shared object file: No such file or directory\n",
      "2022-06-21 12:13:52.941380: W tensorflow/stream_executor/platform/default/dso_loader.cc:64] Could not load dynamic library 'libcusparse.so.11'; dlerror: libcusparse.so.11: cannot open shared object file: No such file or directory\n",
      "2022-06-21 12:13:52.941405: W tensorflow/stream_executor/platform/default/dso_loader.cc:64] Could not load dynamic library 'libcudnn.so.8'; dlerror: libcudnn.so.8: cannot open shared object file: No such file or directory\n",
      "2022-06-21 12:13:52.941410: W tensorflow/core/common_runtime/gpu/gpu_device.cc:1850] Cannot dlopen some GPU libraries. Please make sure the missing libraries mentioned above are installed properly if you would like to use GPU. Follow the guide at https://www.tensorflow.org/install/gpu for how to download and setup the required libraries for your platform.\n",
      "Skipping registering GPU devices...\n",
      "2022-06-21 12:13:52.942193: I tensorflow/core/platform/cpu_feature_guard.cc:193] This TensorFlow binary is optimized with oneAPI Deep Neural Network Library (oneDNN) to use the following CPU instructions in performance-critical operations:  AVX2 AVX512F AVX512_VNNI FMA\n",
      "To enable them in other operations, rebuild TensorFlow with the appropriate compiler flags.\n"
     ]
    },
    {
     "data": {
      "text/plain": [
       "TensorShape([1, 27, 27, 1])"
      ]
     },
     "execution_count": 5,
     "metadata": {},
     "output_type": "execute_result"
    }
   ],
   "source": [
    "# Conv2D was design for batch, so to get the first item but keeping the righ shape (n_dim=4) use your_array[[i]]\n",
    "conv_output = conv2d(x_train[[0]])\n",
    "conv_output.shape"
   ]
  },
  {
   "cell_type": "markdown",
   "id": "dec0aceb",
   "metadata": {},
   "source": [
    "Let's play with kernel size, and padding.  \n",
    "With `valid` parameters, the convolution use only the available data, and start the convolution from the beginning of data."
   ]
  },
  {
   "cell_type": "code",
   "execution_count": 6,
   "id": "4ddf5ea7",
   "metadata": {},
   "outputs": [],
   "source": [
    "conv2d = keras.layers.Conv2D(\n",
    "    filters=1,\n",
    "    kernel_size=(2, 2),\n",
    "    strides=(1, 1),\n",
    "    padding='valid'\n",
    ")"
   ]
  },
  {
   "cell_type": "code",
   "execution_count": 7,
   "id": "93ec60e4",
   "metadata": {},
   "outputs": [
    {
     "name": "stdout",
     "output_type": "stream",
     "text": [
      "original dimension of the filter: (2, 2, 1, 1)\n"
     ]
    },
    {
     "data": {
      "image/png": "[encoded data removed]",
      "text/plain": [
       "<Figure size 432x288 with 2 Axes>"
      ]
     },
     "metadata": {
      "needs_background": "light"
     },
     "output_type": "display_data"
    }
   ],
   "source": [
    "conv_output = conv2d(x_train[[0]])\n",
    "print('original dimension of the filter:', conv2d.get_weights()[0].shape) # list because it could exist more than one filter\n",
    "filter_to_plot = conv2d.get_weights()[0].reshape(2, 2) # reshape into 2, 2 to plot\n",
    "\n",
    "sns.heatmap(filter_to_plot, annot=True)\n",
    "plt.title('Weight of the filter 2x2');"
   ]
  },
  {
   "cell_type": "markdown",
   "id": "f160762d",
   "metadata": {},
   "source": [
    "Formula of output shape $\\dfrac{(W−K+2P)}{S}+1$ with:  \n",
    "- W  is the width/height size - here 28\n",
    "- K is the Kernel size - here 2\n",
    "- P is the padding - here 0\n",
    "- S is the stride - here 1\n",
    "\n",
    "so $\\dfrac{(28−2+2*0)}{1}+1 = 27$"
   ]
  },
  {
   "cell_type": "code",
   "execution_count": 8,
   "id": "bfb5888e",
   "metadata": {},
   "outputs": [
    {
     "data": {
      "text/plain": [
       "TensorShape([1, 27, 27, 1])"
      ]
     },
     "execution_count": 8,
     "metadata": {},
     "output_type": "execute_result"
    }
   ],
   "source": [
    "conv_output.shape"
   ]
  },
  {
   "cell_type": "markdown",
   "id": "024ca6c0",
   "metadata": {},
   "source": [
    "Great!!! We get the good dimension!"
   ]
  },
  {
   "cell_type": "code",
   "execution_count": 9,
   "id": "62dd053e",
   "metadata": {},
   "outputs": [
    {
     "data": {
      "image/png": "[encoded data removed]",
      "text/plain": [
       "<Figure size 432x288 with 2 Axes>"
      ]
     },
     "metadata": {
      "needs_background": "light"
     },
     "output_type": "display_data"
    }
   ],
   "source": [
    "sns.heatmap(conv_output.numpy()[0].reshape(27, -1))\n",
    "plt.title('Features extracted with one Conv2D filter');"
   ]
  },
  {
   "cell_type": "markdown",
   "id": "058f30fc",
   "metadata": {},
   "source": [
    "Result of the Conv2D: $\\sum_{i=0, j=0}^{ks_h, ks_w} conv\\_weigh_{ij}*v_{k+i, l+j}$\n",
    "- $ks_w$: kernel size for width (h for height)\n",
    "- i, j: coordinates\n",
    "- $v_{k,l}$: value of the image for k,l coordinates  \n",
    "\n",
    "For multiple channel, it is the same, the calculation is the sum of every convolution for every channel.  \n",
    "For 3D (so dimension [0, 1, 2]):\n",
    "\n",
    "\n",
    "$\\sum_{d=0}^{2}\\sum_{i=0, j=0}^{ks_h, ks_w} conv\\_weigh_{ij}*v_{k+i, l+j, d}$"
   ]
  },
  {
   "cell_type": "code",
   "execution_count": 10,
   "id": "f7b2eb8c",
   "metadata": {},
   "outputs": [
    {
     "name": "stdout",
     "output_type": "stream",
     "text": [
      "Result of the convolution for the center of the image\n",
      "results by hand calculation:\n",
      " -117.8145581483841\n",
      "\n",
      "\n",
      "With Conv2D:\n",
      " -117.81456\n"
     ]
    }
   ],
   "source": [
    "conv_by_hand = x_train[0].reshape(28, 28)[14:16, 14:16] * filter_to_plot\n",
    "print('Result of the convolution for the center of the image')\n",
    "print('results by hand calculation:\\n', np.sum(conv_by_hand))\n",
    "shape = conv_output.numpy()[0].shape[0]\n",
    "print('\\n')\n",
    "print('With Conv2D:\\n', conv_output.numpy()[0].reshape(shape, -1)[14, 14])"
   ]
  },
  {
   "cell_type": "code",
   "execution_count": 11,
   "id": "e5acf6c9",
   "metadata": {},
   "outputs": [
    {
     "name": "stdout",
     "output_type": "stream",
     "text": [
      "original shape after convolution: (1, 24, 24, 1)\n"
     ]
    },
    {
     "data": {
      "image/png": "[encoded data removed]",
      "text/plain": [
       "<Figure size 432x288 with 2 Axes>"
      ]
     },
     "metadata": {
      "needs_background": "light"
     },
     "output_type": "display_data"
    }
   ],
   "source": [
    "# CHANGE KERNEL SIZE\n",
    "conv2d = keras.layers.Conv2D(\n",
    "    filters=1,\n",
    "    kernel_size=(5, 5),\n",
    "    strides=(1, 1),\n",
    "    padding='valid'\n",
    ")\n",
    "\n",
    "conv_output = conv2d(x_train[[0]])\n",
    "print('original shape after convolution:', conv_output.shape)\n",
    "shape = conv_output.shape[1]\n",
    "sns.heatmap(conv_output.numpy()[0].reshape(shape, -1))\n",
    "plt.title('Features extracted with one Conv2D filter');"
   ]
  },
  {
   "cell_type": "code",
   "execution_count": 12,
   "id": "a088892b",
   "metadata": {},
   "outputs": [
    {
     "name": "stdout",
     "output_type": "stream",
     "text": [
      "original shape after convolution: (1, 8, 24, 1)\n"
     ]
    },
    {
     "data": {
      "image/png": "[encoded data removed]",
      "text/plain": [
       "<Figure size 432x288 with 2 Axes>"
      ]
     },
     "metadata": {
      "needs_background": "light"
     },
     "output_type": "display_data"
    }
   ],
   "source": [
    "# CHANGE STRIDE\n",
    "conv2d = keras.layers.Conv2D(\n",
    "    filters=1,\n",
    "    kernel_size=(5, 5),\n",
    "    strides=(3, 1),\n",
    "    padding='valid'\n",
    ")\n",
    "\n",
    "conv_output = conv2d(x_train[[0]])\n",
    "print('original shape after convolution:', conv_output.shape)\n",
    "shape = conv_output.shape[1]\n",
    "sns.heatmap(conv_output.numpy()[0].reshape(shape, -1))\n",
    "plt.title('Features extracted with one Conv2D filter');"
   ]
  },
  {
   "cell_type": "markdown",
   "id": "d078d351",
   "metadata": {},
   "source": [
    "Hooo, the size is not square!!  \n",
    "- the strides are not the same for height (3) and width (1)\n",
    "\n",
    "so for height: $\\dfrac{(28−5+2*0)}{3}+1 = 8,6 \\Rightarrow 8$  \n",
    "and for width: $\\dfrac{(28−5+2*0)}{1}+1 = 24$  "
   ]
  },
  {
   "cell_type": "code",
   "execution_count": 13,
   "id": "610b425e",
   "metadata": {},
   "outputs": [
    {
     "name": "stdout",
     "output_type": "stream",
     "text": [
      "original shape after convolution: (1, 10, 28, 1)\n"
     ]
    },
    {
     "data": {
      "image/png": "[encoded data removed]",
      "text/plain": [
       "<Figure size 432x288 with 2 Axes>"
      ]
     },
     "metadata": {
      "needs_background": "light"
     },
     "output_type": "display_data"
    }
   ],
   "source": [
    "# CHANGE PADDING\n",
    "conv2d = keras.layers.Conv2D(\n",
    "    filters=1,\n",
    "    kernel_size=(5, 5),\n",
    "    strides=(3, 1),\n",
    "    padding='same'\n",
    ")\n",
    "\n",
    "conv_output = conv2d(x_train[[0]])\n",
    "print('original shape after convolution:', conv_output.shape)\n",
    "shape = conv_output.shape[1]\n",
    "sns.heatmap(conv_output.numpy()[0].reshape(shape, -1))\n",
    "plt.title('Features extracted with one Conv2D filter');"
   ]
  },
  {
   "cell_type": "markdown",
   "id": "ee9826be",
   "metadata": {},
   "source": [
    "Our shape have change. How the shapping is calculated:  \n",
    "- $output\\ spatial\\ shape = ceil(\\dfrac{input\\ spatial\\ shape}{stride}) = floor(\\dfrac{input\\ spatial\\ shape}{stride}) + 1$  \n",
    "\n",
    "so $output\\ spatial\\ shape \\ for\\ height = floor(\\dfrac{28}{3}) + 1 = floor(9.3) + 1 = 9 +1 = 10$ "
   ]
  },
  {
   "cell_type": "markdown",
   "id": "b530e2d7",
   "metadata": {},
   "source": [
    "# Pooling"
   ]
  },
  {
   "cell_type": "markdown",
   "id": "33e986b9",
   "metadata": {},
   "source": [
    "Let's view pooling. Let's see only max as all other poolings follow the same principles."
   ]
  },
  {
   "cell_type": "code",
   "execution_count": 14,
   "id": "fc8306e9",
   "metadata": {},
   "outputs": [],
   "source": [
    "max_pool_2d = tf.keras.layers.MaxPool2D(\n",
    "    pool_size=(2, 2),\n",
    "    strides=None,\n",
    "    padding='valid',\n",
    "    data_format=None,\n",
    ")"
   ]
  },
  {
   "cell_type": "code",
   "execution_count": 15,
   "id": "06ff6f26",
   "metadata": {},
   "outputs": [
    {
     "name": "stdout",
     "output_type": "stream",
     "text": [
      "original shape of convolution output: (1, 10, 28, 1)\n",
      "after pooling: (1, 5, 14, 1)\n"
     ]
    }
   ],
   "source": [
    "print('original shape of convolution output:', conv_output.shape)\n",
    "pooled_output = max_pool_2d(conv_output)\n",
    "print('after pooling:', pooled_output.shape)"
   ]
  },
  {
   "cell_type": "code",
   "execution_count": 16,
   "id": "1d24c191",
   "metadata": {},
   "outputs": [],
   "source": [
    "# when is strides is none, it takes the pool_size as stride values\n",
    "max_pool_2d = tf.keras.layers.MaxPool2D(\n",
    "    pool_size=(2, 2),\n",
    "    strides=(2, 2), # <== let's be explicit\n",
    "    padding='valid',\n",
    "    data_format=None,\n",
    ")"
   ]
  },
  {
   "cell_type": "code",
   "execution_count": 17,
   "id": "85097f05",
   "metadata": {},
   "outputs": [
    {
     "name": "stdout",
     "output_type": "stream",
     "text": [
      "original shape of convolution output: (1, 10, 28, 1)\n",
      "after pooling: (1, 5, 14, 1)\n"
     ]
    },
    {
     "data": {
      "image/png": "[encoded data removed]",
      "text/plain": [
       "<Figure size 432x288 with 2 Axes>"
      ]
     },
     "metadata": {
      "needs_background": "light"
     },
     "output_type": "display_data"
    }
   ],
   "source": [
    "print('original shape of convolution output:', conv_output.shape)\n",
    "pooled_output = max_pool_2d(conv_output)\n",
    "print('after pooling:', pooled_output.shape)\n",
    "shape = pooled_output.shape[1]\n",
    "sns.heatmap(pooled_output.numpy()[0].reshape(shape, -1))\n",
    "plt.title('Features extracted with one Conv2D + MaxPool2D filter');"
   ]
  },
  {
   "cell_type": "code",
   "execution_count": 18,
   "id": "47eac413",
   "metadata": {},
   "outputs": [],
   "source": [
    "# when is strides is none, it takes the pool_size as stride values\n",
    "max_pool_2d = tf.keras.layers.MaxPool2D(\n",
    "    pool_size=(2, 2),\n",
    "    strides=(5, 3), # <== let's be explicit\n",
    "    padding='valid',\n",
    "    data_format=None,\n",
    ")"
   ]
  },
  {
   "cell_type": "code",
   "execution_count": 19,
   "id": "c61e030d",
   "metadata": {},
   "outputs": [
    {
     "name": "stdout",
     "output_type": "stream",
     "text": [
      "original shape of convolution output: (1, 10, 28, 1)\n",
      "after pooling: (1, 2, 9, 1)\n"
     ]
    },
    {
     "data": {
      "image/png": "[encoded data removed]",
      "text/plain": [
       "<Figure size 432x288 with 2 Axes>"
      ]
     },
     "metadata": {
      "needs_background": "light"
     },
     "output_type": "display_data"
    }
   ],
   "source": [
    "print('original shape of convolution output:', conv_output.shape)\n",
    "pooled_output = max_pool_2d(conv_output)\n",
    "print('after pooling:', pooled_output.shape)\n",
    "shape = pooled_output.shape[1]\n",
    "sns.heatmap(pooled_output.numpy()[0].reshape(shape, -1))\n",
    "plt.title('Features extracted with one Conv2D + MaxPool2D filter');"
   ]
  },
  {
   "cell_type": "markdown",
   "id": "6217502b",
   "metadata": {},
   "source": [
    "Formula of output shape $floor(\\dfrac{W}{max(K, S)})$ with:  \n",
    "- W  is the width/height size - here (10, 28)\n",
    "- K is the Kernel size - here (2, 2)\n",
    "- P is the padding - here 0\n",
    "- S is the stride - here (5, 3)\n",
    "\n",
    "so for height: $floor(\\dfrac{10}{max(2, 5)}=\\dfrac{10}{5}) = 2$  \n",
    "so for width: $floor(\\dfrac{10}{max(2, 3)}=\\dfrac{28}{3}) = floor(9.3) = 9 $  "
   ]
  },
  {
   "cell_type": "markdown",
   "id": "679b2117",
   "metadata": {},
   "source": [
    "Let's play with a kernel higher than the stride."
   ]
  },
  {
   "cell_type": "code",
   "execution_count": 20,
   "id": "b7533769",
   "metadata": {},
   "outputs": [],
   "source": [
    "# when is strides is none, it takes the pool_size as stride values\n",
    "max_pool_2d = tf.keras.layers.MaxPool2D(\n",
    "    pool_size=(7, 4),\n",
    "    strides=(5, 3), # <== let's be explicit\n",
    "    padding='valid',\n",
    "    data_format=None,\n",
    ")"
   ]
  },
  {
   "cell_type": "code",
   "execution_count": 21,
   "id": "0b9569dd",
   "metadata": {},
   "outputs": [
    {
     "name": "stdout",
     "output_type": "stream",
     "text": [
      "original shape of convolution output: (1, 10, 28, 1)\n",
      "after pooling: (1, 1, 9, 1)\n"
     ]
    },
    {
     "data": {
      "image/png": "[encoded data removed]",
      "text/plain": [
       "<Figure size 432x288 with 2 Axes>"
      ]
     },
     "metadata": {
      "needs_background": "light"
     },
     "output_type": "display_data"
    }
   ],
   "source": [
    "print('original shape of convolution output:', conv_output.shape)\n",
    "pooled_output = max_pool_2d(conv_output)\n",
    "print('after pooling:', pooled_output.shape)\n",
    "shape = pooled_output.shape[1]\n",
    "sns.heatmap(pooled_output.numpy()[0].reshape(shape, -1))\n",
    "plt.title('Features extracted with one Conv2D + MaxPool2D filter');"
   ]
  },
  {
   "cell_type": "markdown",
   "id": "2de21bb7",
   "metadata": {},
   "source": [
    "And try with strides of (1, 1)"
   ]
  },
  {
   "cell_type": "code",
   "execution_count": 22,
   "id": "92671ddd",
   "metadata": {},
   "outputs": [
    {
     "name": "stdout",
     "output_type": "stream",
     "text": [
      "original shape of convolution output: (1, 10, 28, 1)\n",
      "after pooling: (1, 9, 27, 1)\n"
     ]
    },
    {
     "data": {
      "image/png": "[encoded data removed]",
      "text/plain": [
       "<Figure size 432x288 with 2 Axes>"
      ]
     },
     "metadata": {
      "needs_background": "light"
     },
     "output_type": "display_data"
    }
   ],
   "source": [
    "# with strides = (1, 1) and kernel (2, 2)\n",
    "max_pool_2d = tf.keras.layers.MaxPool2D(\n",
    "    pool_size=(2, 2),\n",
    "    strides=(1, 1), # <== let's be explicit\n",
    "    padding='valid',\n",
    "    data_format=None,\n",
    ")\n",
    "\n",
    "print('original shape of convolution output:', conv_output.shape)\n",
    "pooled_output = max_pool_2d(conv_output)\n",
    "print('after pooling:', pooled_output.shape)\n",
    "shape = pooled_output.shape[1]\n",
    "sns.heatmap(pooled_output.numpy()[0].reshape(shape, -1))\n",
    "plt.title('Features extracted with one Conv2D + MaxPool2D filter');"
   ]
  },
  {
   "cell_type": "code",
   "execution_count": 23,
   "id": "525c34c5",
   "metadata": {},
   "outputs": [
    {
     "name": "stdout",
     "output_type": "stream",
     "text": [
      "original shape of convolution output: (1, 10, 28, 1)\n",
      "after pooling: (1, 10, 28, 1)\n"
     ]
    },
    {
     "data": {
      "image/png": "[encoded data removed]",
      "text/plain": [
       "<Figure size 432x288 with 2 Axes>"
      ]
     },
     "metadata": {
      "needs_background": "light"
     },
     "output_type": "display_data"
    }
   ],
   "source": [
    "# with strides = (1, 1) and kernel (2, 2) and PADDING ??\n",
    "max_pool_2d = tf.keras.layers.MaxPool2D(\n",
    "    pool_size=(2, 2),\n",
    "    strides=(1, 1), # <== let's be explicit\n",
    "    padding='same', # <== put padding\n",
    "    data_format=None,\n",
    ")\n",
    "\n",
    "print('original shape of convolution output:', conv_output.shape)\n",
    "pooled_output = max_pool_2d(conv_output)\n",
    "print('after pooling:', pooled_output.shape)\n",
    "shape = pooled_output.shape[1]\n",
    "sns.heatmap(pooled_output.numpy()[0].reshape(shape, -1))\n",
    "plt.title('Features extracted with one Conv2D + MaxPool2D filter');"
   ]
  },
  {
   "cell_type": "markdown",
   "id": "bc41c019",
   "metadata": {},
   "source": [
    "# GREAT! you know everything about Conv2D and Padding, play with, redo calculation with small dimension if you're doubting anything."
   ]
  },
  {
   "cell_type": "code",
   "execution_count": null,
   "id": "5c0d9efb",
   "metadata": {},
   "outputs": [],
   "source": []
  }
 ],
 "metadata": {
  "kernelspec": {
   "display_name": "Python 3 (ipykernel)",
   "language": "python",
   "name": "python3"
  },
  "language_info": {
   "codemirror_mode": {
    "name": "ipython",
    "version": 3
   },
   "file_extension": ".py",
   "mimetype": "text/x-python",
   "name": "python",
   "nbconvert_exporter": "python",
   "pygments_lexer": "ipython3",
   "version": "3.8.10"
  }
 },
 "nbformat": 4,
 "nbformat_minor": 5
}
